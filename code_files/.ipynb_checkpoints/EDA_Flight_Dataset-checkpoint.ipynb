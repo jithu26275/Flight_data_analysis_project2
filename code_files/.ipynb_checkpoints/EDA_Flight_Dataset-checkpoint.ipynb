{
 "cells": [
  {
   "cell_type": "markdown",
   "id": "508b500d",
   "metadata": {},
   "source": [
    "# EDA for Flight Dataset\n",
    "\n",
    "QUESTIONS TO BE ANSWERED \n",
    "# gpt \n",
    "- Which airline has the highest average flight duration?\n",
    "- What is the trend of average ticket price over days left to departure by airline?\n",
    "- Which source–destination city pairs have the longest average duration?\n",
    "- How many flights are recorded per airline and class (Business vs Economy)?\n",
    "- Which time of day (Departure Time) has the longest average durations?\n",
    "- Which airlines operate the most unique routes?\n",
    "- Is there a correlation between flight duration and ticket price?\n",
    "- What are the top 5 most frequent flight routes?\n",
    "- Which source cities have the most departures?\n",
    "- Do last-minute bookings (low days left) cost more than early bookings?"
   ]
  },
  {
   "cell_type": "code",
   "execution_count": null,
   "id": "f7f282c0",
   "metadata": {},
   "outputs": [],
   "source": [
    "import pandas as pd\n",
    "import matplotlib.pyplot as plt\n",
    "import seaborn as sns"
   ]
  },
  {
   "cell_type": "code",
   "execution_count": null,
   "id": "ee6760d1",
   "metadata": {},
   "outputs": [],
   "source": [
    "flight_df = pd.read_csv(r\"C:\\Users\\JITHIN\\OneDrive\\Desktop\\Bootcamp\\Bootcamp_Labs\\week_3\\Project_2_EDA_SQL\\Datasets\\airlines_flights_data.csv\")"
   ]
  },
  {
   "cell_type": "code",
   "execution_count": null,
   "id": "b289c0e4",
   "metadata": {},
   "outputs": [],
   "source": [
    "flight_df"
   ]
  },
  {
   "cell_type": "code",
   "execution_count": null,
   "id": "3878e80d",
   "metadata": {},
   "outputs": [],
   "source": [
    "flight_df.isnull().sum()"
   ]
  },
  {
   "cell_type": "code",
   "execution_count": null,
   "id": "f97a279f",
   "metadata": {},
   "outputs": [],
   "source": [
    "flight_df[\"airline\"].unique()"
   ]
  },
  {
   "cell_type": "markdown",
   "id": "2c7f0881",
   "metadata": {},
   "source": [
    "# Q1 - Which airline has the highest average flight duration?"
   ]
  },
  {
   "cell_type": "code",
   "execution_count": null,
   "id": "c12bd2e2",
   "metadata": {},
   "outputs": [],
   "source": [
    "avg_duration = flight_df.groupby(\"airline\")[\"duration\"].mean()\n",
    "avg_duration.sort_values(ascending=False)"
   ]
  },
  {
   "cell_type": "code",
   "execution_count": null,
   "id": "47dc4d14",
   "metadata": {},
   "outputs": [],
   "source": [
    "plt.figure(figsize=(8, 4))\n",
    "avg_duration.sort_values().plot(kind='bar', color='skyblue')\n",
    "plt.title('Average Flight Duration per Airline')\n",
    "plt.xlabel('Duration (hours)')\n",
    "plt.ylabel('Airline')\n",
    "plt.tight_layout()\n",
    "plt.show()"
   ]
  },
  {
   "cell_type": "code",
   "execution_count": null,
   "id": "322ad0e8",
   "metadata": {},
   "outputs": [],
   "source": [
    "total_flight_hours = flight_df.groupby(\"airline\")[\"duration\"].sum()\n",
    "total_flight_hours.sort_values(ascending=False)"
   ]
  },
  {
   "cell_type": "code",
   "execution_count": null,
   "id": "cb430919",
   "metadata": {},
   "outputs": [],
   "source": [
    "plt.figure(figsize=(8,4))\n",
    "total_flight_hours.plot(kind = \"bar\", color= \"pink\")\n",
    "plt.title(\"Total operation duration of Airlines\")\n",
    "plt.xlabel(\"airlines\")\n",
    "plt.ylabel(\"duration\")\n",
    "plt.show()"
   ]
  },
  {
   "cell_type": "code",
   "execution_count": null,
   "id": "9d54456e",
   "metadata": {},
   "outputs": [],
   "source": [
    "Operation_count = flight_df[\"airline\"].value_counts()\n",
    "Operation_count"
   ]
  },
  {
   "cell_type": "code",
   "execution_count": null,
   "id": "9ed77498",
   "metadata": {},
   "outputs": [],
   "source": [
    "plt.figure(figsize=(8,4))\n",
    "Operation_count.plot(kind = \"bar\", color= \"orange\")\n",
    "plt.title(\"Total operations of Airlines\")\n",
    "plt.xlabel(\"airlines\")\n",
    "plt.ylabel(\"Total operations\")\n",
    "plt.tight_layout()\n",
    "plt.show()"
   ]
  },
  {
   "cell_type": "markdown",
   "id": "9ce84aa2",
   "metadata": {},
   "source": [
    "# Q2 Which source–destination city pairs have the longest average duration?"
   ]
  },
  {
   "cell_type": "code",
   "execution_count": null,
   "id": "a1a88d14",
   "metadata": {},
   "outputs": [],
   "source": [
    "flight_df.head()"
   ]
  },
  {
   "cell_type": "code",
   "execution_count": null,
   "id": "35570303",
   "metadata": {},
   "outputs": [],
   "source": [
    "Longest_avgdur_pair = flight_df.groupby([\"source_city\",\"destination_city\"])[\"duration\"].mean().unstack()"
   ]
  },
  {
   "cell_type": "code",
   "execution_count": null,
   "id": "0560494f",
   "metadata": {},
   "outputs": [],
   "source": [
    "Longest_avgdur_pair_v = flight_df.groupby([\"source_city\",\"destination_city\"])[\"duration\"].mean()\n",
    "Longest_avgdur_pair_v.sort_values(ascending=False).head(20)"
   ]
  },
  {
   "cell_type": "code",
   "execution_count": null,
   "id": "e1ef47da",
   "metadata": {},
   "outputs": [],
   "source": [
    "Longest_avgdur_pair_v.sort_values().head()"
   ]
  },
  {
   "cell_type": "code",
   "execution_count": null,
   "id": "675aaa5b",
   "metadata": {},
   "outputs": [],
   "source": [
    "plt.figure(figsize=(10, 6))\n",
    "sns.heatmap(Longest_avgdur_pair, annot=True, fmt=\".2f\", cmap=\"Reds\")\n",
    "plt.title(\"Average Duration Between City Pairs\")\n",
    "plt.ylabel(\"Source City\")\n",
    "plt.xlabel(\"Destination City\")\n",
    "plt.tight_layout()\n",
    "plt.show()\n"
   ]
  },
  {
   "cell_type": "code",
   "execution_count": null,
   "id": "c4335845",
   "metadata": {},
   "outputs": [],
   "source": [
    "Longest_avgdur_pair_test = flight_df.groupby([\"source_city\",\"destination_city\",\"stops\"])[\"duration\"].mean()"
   ]
  },
  {
   "cell_type": "code",
   "execution_count": null,
   "id": "013ee252",
   "metadata": {},
   "outputs": [],
   "source": [
    "Longest_avgdur_pair_test.sort_values()"
   ]
  },
  {
   "cell_type": "code",
   "execution_count": null,
   "id": "db904cc3",
   "metadata": {},
   "outputs": [],
   "source": [
    "Longest_avgdur_pair_test = flight_df.groupby([\"source_city\",\"destination_city\",\"stops\"])[\"duration\"].mean().unstack()"
   ]
  },
  {
   "cell_type": "code",
   "execution_count": null,
   "id": "bb0bdd9d",
   "metadata": {},
   "outputs": [],
   "source": [
    "plt.figure(figsize=(10, 6))\n",
    "sns.heatmap(Longest_avgdur_pair_test, annot=True, fmt=\".2f\", cmap=\"Blues\")\n",
    "plt.title(\"Average Duration Between City Pairs with stops\")\n",
    "plt.ylabel(\"Source - Destination City\")\n",
    "plt.xlabel(\"No of Stops\")\n",
    "plt.tight_layout()\n",
    "plt.show()"
   ]
  },
  {
   "cell_type": "code",
   "execution_count": null,
   "id": "d781f5cc",
   "metadata": {},
   "outputs": [],
   "source": [
    "stops_count = flight_df.groupby([\"source_city\", \"destination_city\", \"stops\"]).size()\n",
    "stops_count.head(27)"
   ]
  },
  {
   "cell_type": "code",
   "execution_count": null,
   "id": "4bff3a10",
   "metadata": {},
   "outputs": [],
   "source": [
    "# Set display option to show all rows\n",
    "pd.set_option('display.max_rows', None)\n",
    "\n",
    "# Now display the DataFrame\n",
    "print(stops_count)"
   ]
  },
  {
   "cell_type": "markdown",
   "id": "652d4898",
   "metadata": {},
   "source": [
    "<!-- Insights  -->"
   ]
  },
  {
   "cell_type": "markdown",
   "id": "f6bed371",
   "metadata": {},
   "source": [
    "# Insights"
   ]
  },
  {
   "cell_type": "markdown",
   "id": "86090900",
   "metadata": {},
   "source": [
    "- In the first finding, the Kolkata(Source) - Chennai(Destination) (Vice versa too) city pair has the longest avg duration between them,\n",
    "but we can also see that the next longest is Banglore - Chennai, But as per geography Chennai and banglore are one of the near by or closest cities.\n",
    "- So with this question we have the next finding that the column \"stops\" directly affects the avg duration of the city pairs, even though the distance is less, few city pairs also have one or more stops inbetween them which affects the avg duration.\n",
    "- We can see that, the pairs Kolkata chennai and banglore chennai , without any inbetween stops can travel much more quicker."
   ]
  },
  {
   "cell_type": "markdown",
   "id": "57e9234c",
   "metadata": {},
   "source": [
    "# How many flights are recorded per airline and class (Business vs Economy)?"
   ]
  },
  {
   "cell_type": "code",
   "execution_count": null,
   "id": "fa339eb0",
   "metadata": {},
   "outputs": [],
   "source": [
    "flight_df.groupby(['airline', 'class'])['flight'].count()\n",
    "flight_df"
   ]
  },
  {
   "cell_type": "code",
   "execution_count": null,
   "id": "d615f218",
   "metadata": {},
   "outputs": [],
   "source": []
  }
 ],
 "metadata": {
  "kernelspec": {
   "display_name": "Python 3",
   "language": "python",
   "name": "python3"
  },
  "language_info": {
   "codemirror_mode": {
    "name": "ipython",
    "version": 3
   },
   "file_extension": ".py",
   "mimetype": "text/x-python",
   "name": "python",
   "nbconvert_exporter": "python",
   "pygments_lexer": "ipython3",
   "version": "3.12.0"
  }
 },
 "nbformat": 4,
 "nbformat_minor": 5
}
